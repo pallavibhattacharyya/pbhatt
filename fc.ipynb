{
 "cells": [
  {
   "cell_type": "code",
   "execution_count": 5,
   "metadata": {},
   "outputs": [
    {
     "name": "stdout",
     "output_type": "stream",
     "text": [
      "number of vibrations:2\n",
      "range of frequencies:1000\n",
      "enter electronic excitation frequency:16000\n",
      "frequency of vibration:20\n",
      "Huang Rhys factor of vibration:5\n",
      "frequency of vibration:500\n",
      "Huang Rhys factor of vibration:1.2\n"
     ]
    }
   ],
   "source": [
    "n = int(input(\"number of vibrations:\"))\n",
    "rang = int(input(\"range of frequencies:\"))\n",
    "freq_list = []\n",
    "S_list = []\n",
    "quanta_list =[]\n",
    "overtone_list = []\n",
    "w0 = int(input(\"enter electronic excitation frequency:\"))\n",
    "m = n\n",
    "import math\n",
    "def freq_info(n,rang):\n",
    "    for i in range(n):\n",
    "        freq1 = int(input(\"frequency of vibration:\"))\n",
    "        S1 = float(input(\"Huang Rhys factor of vibration:\"))\n",
    "        quanta = rang // freq1\n",
    "        freq_list.append(freq1)\n",
    "        S_list.append(S1)\n",
    "        quanta_list.append(quanta)\n",
    "    return freq_list,S_list,quanta_list\n",
    "ff = freq_info(n,rang)\n",
    "frequency_list = ff[0]\n",
    "HR_list = ff[1]\n",
    "nvib_list = ff[2]\n",
    "def vibronic_prog(w):\n",
    "    gauss_sum = 0    \n",
    "    for i in range(len(frequency_list)):\n",
    "        m = nvib_list[i]\n",
    "        for j in range(m):\n",
    "            gauss_sum += (1/n)*math.exp(-HR_list[i])*(HR_list[i]**j)*1/math.factorial(j)*math.exp(-(w-(j+0.5)*frequency_list[i]-w0)**2)\n",
    "    return gauss_sum\n",
    "Y_data = []\n",
    "X_data = []\n",
    "\n",
    "for i in range(w0-100,w0+rang+1):\n",
    "    X_data.append(i)\n",
    "    Y_data.append(vibronic_prog(i))\n"
   ]
  },
  {
   "cell_type": "code",
   "execution_count": 6,
   "metadata": {},
   "outputs": [
    {
     "data": {
      "image/png": "[encoded data removed]",
      "text/plain": [
       "<matplotlib.figure.Figure at 0x10e5bcdd8>"
      ]
     },
     "metadata": {},
     "output_type": "display_data"
    }
   ],
   "source": [
    "import matplotlib.pyplot as plt\n",
    "# plotting the points \n",
    "plt.plot(X_data, Y_data)\n",
    "  \n",
    "# naming the x axis\n",
    "plt.xlabel('Frequency')\n",
    "# naming the y axis\n",
    "plt.ylabel('Intensity')\n",
    "plt.show()"
   ]
  },
  {
   "cell_type": "code",
   "execution_count": 97,
   "metadata": {},
   "outputs": [
    {
     "name": "stdout",
     "output_type": "stream",
     "text": [
      "number of vibrations:2\n",
      "range of frequencies:1000\n",
      "enter electronic excitation frequency:16000\n",
      "frequency of vibration:20\n",
      "Huang Rhys factor of vibration:5\n",
      "frequency of vibration:1000\n",
      "Huang Rhys factor of vibration:0.1\n"
     ]
    }
   ],
   "source": [
    "n = int(input(\"number of vibrations:\"))\n",
    "rang = int(input(\"range of frequencies:\"))\n",
    "freq_list = []\n",
    "S_list = []\n",
    "quanta_list =[]\n",
    "overtone_list = []\n",
    "w0 = int(input(\"enter electronic excitation frequency:\"))\n",
    "m = n\n",
    "import math\n",
    "def freq_info(n,rang):\n",
    "    for i in range(n):\n",
    "        freq1 = int(input(\"frequency of vibration:\"))\n",
    "        S1 = float(input(\"Huang Rhys factor of vibration:\"))\n",
    "        quanta = rang // freq1\n",
    "        freq_list.append(freq1)\n",
    "        S_list.append(S1)\n",
    "        quanta_list.append(quanta)\n",
    "    return freq_list,S_list,quanta_list\n",
    "ff = freq_info(n,rang)\n",
    "frequency_list = ff[0]\n",
    "HR_list = ff[1]\n",
    "nvib_list = ff[2]\n",
    "def vibronic_prog(w):\n",
    "    gauss_sum = 0    \n",
    "    for i in range(len(frequency_list)):\n",
    "        m = nvib_list[i]\n",
    "        for j in range(m):\n",
    "            gauss_sum += (1/n)*math.exp(-HR_list[i])*(HR_list[i]**j)*1/math.factorial(j)*math.exp(-(w-j*frequency_list[i]-w0)**2)\n",
    "    return gauss_sum\n",
    "Y_data = []\n",
    "X_data = []\n",
    "\n",
    "for i in range(w0-100,w0+rang+1):\n",
    "    X_data.append(i)\n",
    "    Y_data.append(vibronic_prog(i))"
   ]
  },
  {
   "cell_type": "code",
   "execution_count": 98,
   "metadata": {},
   "outputs": [
    {
     "data": {
      "image/png": "[encoded data removed]",
      "text/plain": [
       "<matplotlib.figure.Figure at 0x1a1688ff28>"
      ]
     },
     "metadata": {},
     "output_type": "display_data"
    }
   ],
   "source": [
    "import matplotlib.pyplot as plt\n",
    "# plotting the points \n",
    "plt.plot(X_data, Y_data)\n",
    "  \n",
    "# naming the x axis\n",
    "plt.xlabel('Frequency')\n",
    "# naming the y axis\n",
    "plt.ylabel('Intensity')\n",
    "plt.show()"
   ]
  },
  {
   "cell_type": "code",
   "execution_count": 18,
   "metadata": {},
   "outputs": [
    {
     "name": "stdout",
     "output_type": "stream",
     "text": [
      "[15900 15901 15902 ... 16998 16999 17000]\n"
     ]
    }
   ],
   "source": [
    "import numpy as np\n",
    "x_array = np.array(X_data)\n",
    "print(x_array)"
   ]
  },
  {
   "cell_type": "code",
   "execution_count": 19,
   "metadata": {},
   "outputs": [
    {
     "name": "stdout",
     "output_type": "stream",
     "text": [
      "[0. 0. 0. ... 0. 0. 0.]\n"
     ]
    }
   ],
   "source": [
    "y_array = np.array(Y_data)\n",
    "print(y_array)"
   ]
  },
  {
   "cell_type": "code",
   "execution_count": 6,
   "metadata": {},
   "outputs": [
    {
     "name": "stdout",
     "output_type": "stream",
     "text": [
      "[[0. 0. 0. ... 0. 0. 0.]]\n"
     ]
    }
   ],
   "source": [
    "from sklearn import preprocessing\n",
    "normalized_arr = preprocessing.normalize([y_array])\n",
    "print(normalized_arr)"
   ]
  },
  {
   "cell_type": "code",
   "execution_count": 9,
   "metadata": {},
   "outputs": [
    {
     "name": "stdout",
     "output_type": "stream",
     "text": [
      "0\n"
     ]
    }
   ],
   "source": [
    "for i in range(1):\n",
    "    print(i)"
   ]
  },
  {
   "cell_type": "code",
   "execution_count": 80,
   "metadata": {},
   "outputs": [
    {
     "name": "stdout",
     "output_type": "stream",
     "text": [
      "number of vibrations:2\n",
      "range of frequencies:1000\n",
      "enter electronic excitation frequency:16000\n",
      "frequency of vibration:20\n",
      "Huang Rhys factor of vibration:5\n",
      "no. of overtones:5\n",
      "frequency of vibration:100\n",
      "Huang Rhys factor of vibration:1\n",
      "no. of overtones:0\n",
      "[20, 40, 60, 80, 100, 120, 100] [5.0, 5.0, 5.0, 5.0, 5.0, 5.0, 1.0] [50, 25, 16, 12, 10, 8, 10] [5, 0] 5\n"
     ]
    }
   ],
   "source": [
    "n = int(input(\"number of vibrations:\"))\n",
    "rang = int(input(\"range of frequencies:\"))\n",
    "freq_list = []\n",
    "S_list = []\n",
    "quanta_list =[]\n",
    "overtone_list = []\n",
    "w0 = int(input(\"enter electronic excitation frequency:\"))\n",
    "\n",
    "import math\n",
    "def freq_info(n,rang):\n",
    "    for i in range(n):\n",
    "        freq1 = int(input(\"frequency of vibration:\"))\n",
    "        S1 = float(input(\"Huang Rhys factor of vibration:\"))\n",
    "        quanta = rang // freq1\n",
    "        freq_list.append(freq1)\n",
    "        S_list.append(S1)\n",
    "        quanta_list.append(quanta)\n",
    "        o1 = int(input(\"no. of overtones:\"))\n",
    "        if o1 ==0:\n",
    "            overtone_list.append(0)\n",
    "        else:\n",
    "            overtone_list.append(o1)\n",
    "        if o1 != 0:\n",
    "            for k in range(o1):\n",
    "                freq_list.append((k+2)*freq1)\n",
    "                quanta_list.append(rang //((k+2)*freq1) )\n",
    "                S_list.append(S1)\n",
    "    return freq_list,S_list,quanta_list,overtone_list\n",
    "ff = freq_info(n,rang)\n",
    "frequency_list = ff[0]\n",
    "HR_list = ff[1]\n",
    "nvib_list = ff[2]\n",
    "ot_list = ff[3]\n",
    "nn = sum(ot_list)\n",
    "print(frequency_list,HR_list,nvib_list,ot_list,nn)\n",
    "def vibronic_prog(w):\n",
    "    gauss_sum = 0    \n",
    "    for i in range(len(frequency_list)):\n",
    "        if ot_list[i] == 0:\n",
    "            m = nvib_list[i]\n",
    "        for j in range(m):\n",
    "            gauss_sum += (1/(n+nn))*math.exp(-HR_list[i])*(HR_list[i]**j)*1/math.factorial(j)*math.exp(-(w-j*frequency_list[i]-w0)**2)\n",
    "    return gauss_sum\n",
    "Y_data = []\n",
    "X_data = []\n",
    "\n",
    "for i in range(w0-100,w0+rang+1):\n",
    "    X_data.append(i)\n",
    "    Y_data.append(vibronic_prog(i))"
   ]
  },
  {
   "cell_type": "code",
   "execution_count": 79,
   "metadata": {},
   "outputs": [
    {
     "data": {
      "image/png": "[encoded data removed]",
      "text/plain": [
       "<matplotlib.figure.Figure at 0x1117827b8>"
      ]
     },
     "metadata": {},
     "output_type": "display_data"
    }
   ],
   "source": [
    "import matplotlib.pyplot as plt\n",
    "# plotting the points \n",
    "plt.plot(X_data, Y_data)\n",
    "  \n",
    "# naming the x axis\n",
    "plt.xlabel('Frequency')\n",
    "# naming the y axis\n",
    "plt.ylabel('Intensity')\n",
    "plt.show()"
   ]
  },
  {
   "cell_type": "code",
   "execution_count": null,
   "metadata": {},
   "outputs": [],
   "source": []
  }
 ],
 "metadata": {
  "kernelspec": {
   "display_name": "Python 3",
   "language": "python",
   "name": "python3"
  },
  "language_info": {
   "codemirror_mode": {
    "name": "ipython",
    "version": 3
   },
   "file_extension": ".py",
   "mimetype": "text/x-python",
   "name": "python",
   "nbconvert_exporter": "python",
   "pygments_lexer": "ipython3",
   "version": "3.6.4"
  }
 },
 "nbformat": 4,
 "nbformat_minor": 2
}
